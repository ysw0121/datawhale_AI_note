{
 "cells": [
  {
   "cell_type": "markdown",
   "metadata": {},
   "source": [
    "# 导入依赖库和转换数据格式\n",
    "主要依赖库：\n",
    "1. numpy 用于矩阵运算\n",
    "2. pandas 用于表格处理\n",
    "3. pathlib 主要用于文件路径处理\n",
    "4. sklearn 用于机器学习算法，这里主要使用了线性回归LinearRegression"
   ]
  },
  {
   "cell_type": "markdown",
   "metadata": {},
   "source": [
    "安装第三方库：你可以选择本地已经配置好的的conda环境，或者创建新的虚拟环境来安装，例如\n",
    "\n",
    "\n",
    "`conda env list` # 查看已有环境\n",
    "\n",
    "`conda create -n abm python=3.9` # 创建新的环境\n",
    "\n",
    "`conda activate abm` # 激活环境\n",
    "\n",
    "`pip install numpy pandas scikit-learn matplotlib seaborn` # 安装第三方库\n",
    "\n"
   ]
  },
  {
   "cell_type": "code",
   "execution_count": 1,
   "metadata": {},
   "outputs": [
    {
     "name": "stdout",
     "output_type": "stream",
     "text": [
      "Requirement already satisfied: numpy in /home/usamimeri/miniforge3/envs/metagpt/lib/python3.9/site-packages (1.24.4)\n",
      "Requirement already satisfied: pandas in /home/usamimeri/miniforge3/envs/metagpt/lib/python3.9/site-packages (2.1.1)\n",
      "Requirement already satisfied: scikit-learn in /home/usamimeri/miniforge3/envs/metagpt/lib/python3.9/site-packages (1.3.2)\n",
      "Requirement already satisfied: matplotlib in /home/usamimeri/miniforge3/envs/metagpt/lib/python3.9/site-packages (3.8.4)\n",
      "Requirement already satisfied: seaborn in /home/usamimeri/miniforge3/envs/metagpt/lib/python3.9/site-packages (0.13.2)\n",
      "Requirement already satisfied: python-dateutil>=2.8.2 in /home/usamimeri/miniforge3/envs/metagpt/lib/python3.9/site-packages (from pandas) (2.9.0)\n",
      "Requirement already satisfied: pytz>=2020.1 in /home/usamimeri/miniforge3/envs/metagpt/lib/python3.9/site-packages (from pandas) (2023.4)\n",
      "Requirement already satisfied: tzdata>=2022.1 in /home/usamimeri/miniforge3/envs/metagpt/lib/python3.9/site-packages (from pandas) (2024.1)\n",
      "Requirement already satisfied: scipy>=1.5.0 in /home/usamimeri/miniforge3/envs/metagpt/lib/python3.9/site-packages (from scikit-learn) (1.9.1)\n",
      "Requirement already satisfied: joblib>=1.1.1 in /home/usamimeri/miniforge3/envs/metagpt/lib/python3.9/site-packages (from scikit-learn) (1.4.2)\n",
      "Requirement already satisfied: threadpoolctl>=2.0.0 in /home/usamimeri/miniforge3/envs/metagpt/lib/python3.9/site-packages (from scikit-learn) (3.5.0)\n",
      "Requirement already satisfied: contourpy>=1.0.1 in /home/usamimeri/miniforge3/envs/metagpt/lib/python3.9/site-packages (from matplotlib) (1.2.1)\n",
      "Requirement already satisfied: cycler>=0.10 in /home/usamimeri/miniforge3/envs/metagpt/lib/python3.9/site-packages (from matplotlib) (0.12.1)\n",
      "Requirement already satisfied: fonttools>=4.22.0 in /home/usamimeri/miniforge3/envs/metagpt/lib/python3.9/site-packages (from matplotlib) (4.53.0)\n",
      "Requirement already satisfied: kiwisolver>=1.3.1 in /home/usamimeri/miniforge3/envs/metagpt/lib/python3.9/site-packages (from matplotlib) (1.4.5)\n",
      "Requirement already satisfied: packaging>=20.0 in /home/usamimeri/miniforge3/envs/metagpt/lib/python3.9/site-packages (from matplotlib) (24.1)\n",
      "Requirement already satisfied: pillow>=8 in /home/usamimeri/miniforge3/envs/metagpt/lib/python3.9/site-packages (from matplotlib) (10.3.0)\n",
      "Requirement already satisfied: pyparsing>=2.3.1 in /home/usamimeri/miniforge3/envs/metagpt/lib/python3.9/site-packages (from matplotlib) (3.1.2)\n",
      "Requirement already satisfied: importlib-resources>=3.2.0 in /home/usamimeri/miniforge3/envs/metagpt/lib/python3.9/site-packages (from matplotlib) (6.4.0)\n",
      "Requirement already satisfied: zipp>=3.1.0 in /home/usamimeri/miniforge3/envs/metagpt/lib/python3.9/site-packages (from importlib-resources>=3.2.0->matplotlib) (3.17.0)\n",
      "Requirement already satisfied: six>=1.5 in /home/usamimeri/miniforge3/envs/metagpt/lib/python3.9/site-packages (from python-dateutil>=2.8.2->pandas) (1.16.0)\n"
     ]
    }
   ],
   "source": [
    "!pip install numpy pandas scikit-learn matplotlib seaborn"
   ]
  },
  {
   "cell_type": "code",
   "execution_count": 1,
   "metadata": {},
   "outputs": [],
   "source": [
    "import numpy as np\n",
    "import pandas as pd\n",
    "from pathlib import Path\n",
    "from sklearn.linear_model import LinearRegression"
   ]
  },
  {
   "cell_type": "markdown",
   "metadata": {},
   "source": [
    "这里我们做了几件事：\n",
    "1. 合并市场数据的日期和时间，便于利用pandas高效的时间序列处理能力（例如我们能直接用大小于号取一段时间序列）\n",
    "2. 处理市场数据以符合最终的提交格式，保存到本地便于后续直接使用\n",
    "\n",
    "`submit.csv`提交格式\n",
    "```csv\n",
    "day,time,clearing price （CNY/MWh）\n",
    "2024/4/1 , 0:15 , 352.334 \n",
    "2024/4/1 , 0:30 , 355.536\n",
    "```\n",
    "\n",
    "3. 设置市场数据的列顺序，并去除合并前的时间列\n",
    "\n",
    "**在进行进一步编写代码前，有效的预处理能大量减少后续迭代方案的耗时**"
   ]
  },
  {
   "cell_type": "code",
   "execution_count": 2,
   "metadata": {},
   "outputs": [],
   "source": [
    "\n",
    "base_path = Path(\"data\")  # 确保数据都放在同级的data目录下\n",
    "\n",
    "# 读取市场数据\n",
    "electricity_price = pd.read_csv(base_path / \"electricity price.csv\")\n",
    "# 读取市场主体（各发电机组）数据\n",
    "unit = pd.read_csv(base_path / \"unit.csv\")\n",
    "\n",
    "\"\"\"\n",
    "准备示例提交数据sample_submit\n",
    "1. electricity_price[\"clearing price (CNY/MWh)\"].isna()找到出清价格为缺失值的行，即要预测的目标\n",
    "2. 去除demand列，符合最后的提交格式 \n",
    "\"\"\"\n",
    "\n",
    "sample_submit = electricity_price[electricity_price[\"clearing price (CNY/MWh)\"].isna()].drop(columns=\"demand\")\n",
    "sample_submit.to_csv(base_path / \"sample_submit.csv\", index=False)"
   ]
  },
  {
   "cell_type": "code",
   "execution_count": 3,
   "metadata": {},
   "outputs": [],
   "source": [
    "# 将day和time列合并成timestamp列，便于提取时间戳特征\n",
    "electricity_price[\"timestamp\"] = pd.to_datetime(\n",
    "    electricity_price[\"day\"] + \" \" + electricity_price[\"time\"].str.replace(\"24:00:00\", \"00:00\"))\n",
    "\n",
    "# 处理24:00:00的情况，即表示第二天的00:00:00\n",
    "mask = electricity_price['timestamp'].dt.time == pd.Timestamp('00:00:00').time()\n",
    "\n",
    "# 需要将这些行的日期部分加一天\n",
    "electricity_price.loc[mask, 'timestamp'] += pd.Timedelta(days=1)\n",
    "\n",
    "# 设置列的顺序，同时去除day和time列\n",
    "electricity_price = electricity_price[[\"timestamp\", \"demand\", \"clearing price (CNY/MWh)\"]]"
   ]
  },
  {
   "cell_type": "markdown",
   "metadata": {},
   "source": [
    "我们可以查看一下市场数据，这里包含约55000个出清电价和电力负荷数据，市场每15分钟生成一次出清电价\n",
    "1. timestamp：时间戳\n",
    "2. demand：区域内电力总负荷（总需求），单位为MW\n",
    "3. clearing price (CNY/MWh)：市场出清电价，单位为元/MW·h\n",
    "\n",
    "其中MW为功率单位，MW·h为能量单位，表示1MW的电器运行一小时产生的能量（例如1度电就是1KW·h）"
   ]
  },
  {
   "cell_type": "code",
   "execution_count": 4,
   "metadata": {},
   "outputs": [
    {
     "data": {
      "text/html": [
       "<div>\n",
       "<style scoped>\n",
       "    .dataframe tbody tr th:only-of-type {\n",
       "        vertical-align: middle;\n",
       "    }\n",
       "\n",
       "    .dataframe tbody tr th {\n",
       "        vertical-align: top;\n",
       "    }\n",
       "\n",
       "    .dataframe thead th {\n",
       "        text-align: right;\n",
       "    }\n",
       "</style>\n",
       "<table border=\"1\" class=\"dataframe\">\n",
       "  <thead>\n",
       "    <tr style=\"text-align: right;\">\n",
       "      <th></th>\n",
       "      <th>timestamp</th>\n",
       "      <th>demand</th>\n",
       "      <th>clearing price (CNY/MWh)</th>\n",
       "    </tr>\n",
       "  </thead>\n",
       "  <tbody>\n",
       "    <tr>\n",
       "      <th>0</th>\n",
       "      <td>2021-12-01 00:15:00</td>\n",
       "      <td>40334.18</td>\n",
       "      <td>350.80</td>\n",
       "    </tr>\n",
       "    <tr>\n",
       "      <th>1</th>\n",
       "      <td>2021-12-01 00:30:00</td>\n",
       "      <td>40523.15</td>\n",
       "      <td>350.80</td>\n",
       "    </tr>\n",
       "    <tr>\n",
       "      <th>2</th>\n",
       "      <td>2021-12-01 00:45:00</td>\n",
       "      <td>40374.74</td>\n",
       "      <td>350.80</td>\n",
       "    </tr>\n",
       "    <tr>\n",
       "      <th>3</th>\n",
       "      <td>2021-12-01 01:00:00</td>\n",
       "      <td>40111.55</td>\n",
       "      <td>350.80</td>\n",
       "    </tr>\n",
       "    <tr>\n",
       "      <th>4</th>\n",
       "      <td>2021-12-01 01:15:00</td>\n",
       "      <td>40067.50</td>\n",
       "      <td>348.93</td>\n",
       "    </tr>\n",
       "  </tbody>\n",
       "</table>\n",
       "</div>"
      ],
      "text/plain": [
       "            timestamp    demand  clearing price (CNY/MWh)\n",
       "0 2021-12-01 00:15:00  40334.18                    350.80\n",
       "1 2021-12-01 00:30:00  40523.15                    350.80\n",
       "2 2021-12-01 00:45:00  40374.74                    350.80\n",
       "3 2021-12-01 01:00:00  40111.55                    350.80\n",
       "4 2021-12-01 01:15:00  40067.50                    348.93"
      ]
     },
     "execution_count": 4,
     "metadata": {},
     "output_type": "execute_result"
    }
   ],
   "source": [
    "electricity_price.head()  # 显示前5行数据"
   ]
  },
  {
   "cell_type": "markdown",
   "metadata": {},
   "source": [
    "机组数据包含549个不同的火电机组\n",
    "1. unit ID：每个机组唯一的ID\n",
    "2. Capacity（MW）：机组的额定容量（额定功率），越高机组的发电能力越强\n",
    "3. utilization hour (h) ：电厂的年平均运行小时数，需要注意多个机组可能共同属于一个电厂，有相同的utilization hour (h)\n",
    "4. coal consumption (g coal/KWh)：每发一度电需要耗费多少煤炭，为成本参数\n",
    "5. power consumption rate：电厂单位时间内耗电量与发电量的百分比，例如单位时间耗电量为500度电，发电量为10000度电，利用率就是500/10000=5%。"
   ]
  },
  {
   "cell_type": "code",
   "execution_count": 5,
   "metadata": {},
   "outputs": [
    {
     "data": {
      "text/html": [
       "<div>\n",
       "<style scoped>\n",
       "    .dataframe tbody tr th:only-of-type {\n",
       "        vertical-align: middle;\n",
       "    }\n",
       "\n",
       "    .dataframe tbody tr th {\n",
       "        vertical-align: top;\n",
       "    }\n",
       "\n",
       "    .dataframe thead th {\n",
       "        text-align: right;\n",
       "    }\n",
       "</style>\n",
       "<table border=\"1\" class=\"dataframe\">\n",
       "  <thead>\n",
       "    <tr style=\"text-align: right;\">\n",
       "      <th></th>\n",
       "      <th>unit ID</th>\n",
       "      <th>Capacity（MW）</th>\n",
       "      <th>utilization hour (h)</th>\n",
       "      <th>coal consumption (g coal/KWh)</th>\n",
       "      <th>power consumption rate (%)</th>\n",
       "    </tr>\n",
       "  </thead>\n",
       "  <tbody>\n",
       "    <tr>\n",
       "      <th>0</th>\n",
       "      <td>1</td>\n",
       "      <td>110.0</td>\n",
       "      <td>2069.12</td>\n",
       "      <td>266.07</td>\n",
       "      <td>6.91</td>\n",
       "    </tr>\n",
       "    <tr>\n",
       "      <th>1</th>\n",
       "      <td>2</td>\n",
       "      <td>160.0</td>\n",
       "      <td>5509.22</td>\n",
       "      <td>292.70</td>\n",
       "      <td>6.91</td>\n",
       "    </tr>\n",
       "    <tr>\n",
       "      <th>2</th>\n",
       "      <td>3</td>\n",
       "      <td>160.0</td>\n",
       "      <td>3562.79</td>\n",
       "      <td>293.35</td>\n",
       "      <td>6.91</td>\n",
       "    </tr>\n",
       "    <tr>\n",
       "      <th>3</th>\n",
       "      <td>4</td>\n",
       "      <td>160.0</td>\n",
       "      <td>5684.12</td>\n",
       "      <td>284.88</td>\n",
       "      <td>6.91</td>\n",
       "    </tr>\n",
       "    <tr>\n",
       "      <th>4</th>\n",
       "      <td>5</td>\n",
       "      <td>220.0</td>\n",
       "      <td>2231.35</td>\n",
       "      <td>323.08</td>\n",
       "      <td>8.54</td>\n",
       "    </tr>\n",
       "  </tbody>\n",
       "</table>\n",
       "</div>"
      ],
      "text/plain": [
       "   unit ID  Capacity（MW）  utilization hour (h)  coal consumption (g coal/KWh)  \\\n",
       "0        1         110.0               2069.12                         266.07   \n",
       "1        2         160.0               5509.22                         292.70   \n",
       "2        3         160.0               3562.79                         293.35   \n",
       "3        4         160.0               5684.12                         284.88   \n",
       "4        5         220.0               2231.35                         323.08   \n",
       "\n",
       "   power consumption rate (%)  \n",
       "0                        6.91  \n",
       "1                        6.91  \n",
       "2                        6.91  \n",
       "3                        6.91  \n",
       "4                        8.54  "
      ]
     },
     "execution_count": 5,
     "metadata": {},
     "output_type": "execute_result"
    }
   ],
   "source": [
    "unit.head()"
   ]
  },
  {
   "cell_type": "markdown",
   "metadata": {},
   "source": [
    "# 使用ABM估计市场出清价格\n",
    "**Agent-Based Modeling (ABM)** 是一种模拟系统的复杂行为和动态的计算方法。它通过定义系统中的个体(称为“代理(Agent)”)及其相互作用规则来进行建模。每个代理具有独特的属性和行为。ABM 模型通过模拟代理之间的互动，观察宏观层面的模式和现象，帮助理解复杂系统的行为和演化。\n",
    "\n",
    "在这里，市场的主体是各个发电机组，他们在电力现货市场中根据市场信息/其他机组信息进行报价，并**以获得最大利润为目标**。\n",
    "\n",
    "这里我们用**边际成本定价法**作为baseline，即每个机组都以其自身每生产一度电的成本进行报价，而不考虑市场信息和其他机组信息。\n",
    "\n",
    "> 类比来说就是只会以成本价卖出商品（事实上这就是完全竞争市场的长期均衡状态）\n",
    "\n",
    "随后，按报价从低到高排序，依次接受报价，直到累计的功率超过了总需求，市场达到出清状态，并以最后一个满足的报价作为市场出清价格的估计。\n",
    "\n",
    "\n",
    "<p><strong style=\"color:red;\">如果感到无法理解，我们在Task1文档下准备了一些背景知识，可以参考阅读~</strong></p>\n"
   ]
  },
  {
   "cell_type": "code",
   "execution_count": 6,
   "metadata": {},
   "outputs": [
    {
     "data": {
      "text/html": [
       "<div>\n",
       "<style scoped>\n",
       "    .dataframe tbody tr th:only-of-type {\n",
       "        vertical-align: middle;\n",
       "    }\n",
       "\n",
       "    .dataframe tbody tr th {\n",
       "        vertical-align: top;\n",
       "    }\n",
       "\n",
       "    .dataframe thead th {\n",
       "        text-align: right;\n",
       "    }\n",
       "</style>\n",
       "<table border=\"1\" class=\"dataframe\">\n",
       "  <thead>\n",
       "    <tr style=\"text-align: right;\">\n",
       "      <th></th>\n",
       "      <th>unit ID</th>\n",
       "      <th>Capacity（MW）</th>\n",
       "      <th>utilization hour (h)</th>\n",
       "      <th>coal consumption (g coal/KWh)</th>\n",
       "      <th>power consumption rate (%)</th>\n",
       "    </tr>\n",
       "  </thead>\n",
       "  <tbody>\n",
       "    <tr>\n",
       "      <th>114</th>\n",
       "      <td>115</td>\n",
       "      <td>60.0</td>\n",
       "      <td>3318.0</td>\n",
       "      <td>63.0</td>\n",
       "      <td>0.00</td>\n",
       "    </tr>\n",
       "    <tr>\n",
       "      <th>238</th>\n",
       "      <td>239</td>\n",
       "      <td>25.0</td>\n",
       "      <td>6486.0</td>\n",
       "      <td>73.0</td>\n",
       "      <td>5.33</td>\n",
       "    </tr>\n",
       "    <tr>\n",
       "      <th>148</th>\n",
       "      <td>149</td>\n",
       "      <td>30.0</td>\n",
       "      <td>3531.0</td>\n",
       "      <td>74.0</td>\n",
       "      <td>3.61</td>\n",
       "    </tr>\n",
       "    <tr>\n",
       "      <th>149</th>\n",
       "      <td>150</td>\n",
       "      <td>30.0</td>\n",
       "      <td>3531.0</td>\n",
       "      <td>74.0</td>\n",
       "      <td>8.72</td>\n",
       "    </tr>\n",
       "    <tr>\n",
       "      <th>150</th>\n",
       "      <td>151</td>\n",
       "      <td>30.0</td>\n",
       "      <td>3531.0</td>\n",
       "      <td>74.0</td>\n",
       "      <td>4.07</td>\n",
       "    </tr>\n",
       "  </tbody>\n",
       "</table>\n",
       "</div>"
      ],
      "text/plain": [
       "     unit ID  Capacity（MW）  utilization hour (h)  \\\n",
       "114      115          60.0                3318.0   \n",
       "238      239          25.0                6486.0   \n",
       "148      149          30.0                3531.0   \n",
       "149      150          30.0                3531.0   \n",
       "150      151          30.0                3531.0   \n",
       "\n",
       "     coal consumption (g coal/KWh)  power consumption rate (%)  \n",
       "114                           63.0                        0.00  \n",
       "238                           73.0                        5.33  \n",
       "148                           74.0                        3.61  \n",
       "149                           74.0                        8.72  \n",
       "150                           74.0                        4.07  "
      ]
     },
     "execution_count": 6,
     "metadata": {},
     "output_type": "execute_result"
    }
   ],
   "source": [
    "sorted_unit = unit.sort_values(\"coal consumption (g coal/KWh)\")  # 按照一度电的耗煤量（近似为边际成本）降序排序\n",
    "sorted_unit.head()"
   ]
  },
  {
   "cell_type": "code",
   "execution_count": 7,
   "metadata": {},
   "outputs": [
    {
     "name": "stdout",
     "output_type": "stream",
     "text": [
      "83520\n"
     ]
    },
    {
     "data": {
      "text/plain": [
       "[279.0, 279.0, 279.0, 279.0, 279.0]"
      ]
     },
     "execution_count": 7,
     "metadata": {},
     "output_type": "execute_result"
    }
   ],
   "source": [
    "# 预先计算 sorted_unit 的累积和\n",
    "sorted_unit['cumulative_capacity'] = sorted_unit['Capacity（MW）'].cumsum()\n",
    "\n",
    "prices = []\n",
    "\n",
    "# 找到最后一个满足总需求的机组报价\n",
    "for demand in electricity_price[\"demand\"]:\n",
    "    price = sorted_unit[sorted_unit['cumulative_capacity'] >= demand][\"coal consumption (g coal/KWh)\"].iloc[0]\n",
    "    prices.append(price)\n",
    "\n",
    "print(len(prices))\n",
    "prices[:5]\n"
   ]
  },
  {
   "cell_type": "markdown",
   "metadata": {},
   "source": [
    "## 转换耗煤量为机组报价\n",
    "\n",
    "由于这里耗煤量单位是g,虽然和成本正相关但不能等同于报价（事实上应该考虑煤价和其他固定资产开销成本）。由于我们不知道如何将耗煤量转为报价，因此我们简单地使用线性回归，拟合估计价格到真实市场出清价格。\n",
    "\n",
    "> 例如A集合[1,2,3]可通过乘以2转为B集合[2,4,6]，假如我们无法知道计算方法，可以用一个函数拟合这样的映射关系。在这里A集合就是耗煤量，B集合为实际报价"
   ]
  },
  {
   "cell_type": "code",
   "execution_count": 8,
   "metadata": {},
   "outputs": [
    {
     "data": {
      "text/html": [
       "<style>#sk-container-id-1 {color: black;}#sk-container-id-1 pre{padding: 0;}#sk-container-id-1 div.sk-toggleable {background-color: white;}#sk-container-id-1 label.sk-toggleable__label {cursor: pointer;display: block;width: 100%;margin-bottom: 0;padding: 0.3em;box-sizing: border-box;text-align: center;}#sk-container-id-1 label.sk-toggleable__label-arrow:before {content: \"▸\";float: left;margin-right: 0.25em;color: #696969;}#sk-container-id-1 label.sk-toggleable__label-arrow:hover:before {color: black;}#sk-container-id-1 div.sk-estimator:hover label.sk-toggleable__label-arrow:before {color: black;}#sk-container-id-1 div.sk-toggleable__content {max-height: 0;max-width: 0;overflow: hidden;text-align: left;background-color: #f0f8ff;}#sk-container-id-1 div.sk-toggleable__content pre {margin: 0.2em;color: black;border-radius: 0.25em;background-color: #f0f8ff;}#sk-container-id-1 input.sk-toggleable__control:checked~div.sk-toggleable__content {max-height: 200px;max-width: 100%;overflow: auto;}#sk-container-id-1 input.sk-toggleable__control:checked~label.sk-toggleable__label-arrow:before {content: \"▾\";}#sk-container-id-1 div.sk-estimator input.sk-toggleable__control:checked~label.sk-toggleable__label {background-color: #d4ebff;}#sk-container-id-1 div.sk-label input.sk-toggleable__control:checked~label.sk-toggleable__label {background-color: #d4ebff;}#sk-container-id-1 input.sk-hidden--visually {border: 0;clip: rect(1px 1px 1px 1px);clip: rect(1px, 1px, 1px, 1px);height: 1px;margin: -1px;overflow: hidden;padding: 0;position: absolute;width: 1px;}#sk-container-id-1 div.sk-estimator {font-family: monospace;background-color: #f0f8ff;border: 1px dotted black;border-radius: 0.25em;box-sizing: border-box;margin-bottom: 0.5em;}#sk-container-id-1 div.sk-estimator:hover {background-color: #d4ebff;}#sk-container-id-1 div.sk-parallel-item::after {content: \"\";width: 100%;border-bottom: 1px solid gray;flex-grow: 1;}#sk-container-id-1 div.sk-label:hover label.sk-toggleable__label {background-color: #d4ebff;}#sk-container-id-1 div.sk-serial::before {content: \"\";position: absolute;border-left: 1px solid gray;box-sizing: border-box;top: 0;bottom: 0;left: 50%;z-index: 0;}#sk-container-id-1 div.sk-serial {display: flex;flex-direction: column;align-items: center;background-color: white;padding-right: 0.2em;padding-left: 0.2em;position: relative;}#sk-container-id-1 div.sk-item {position: relative;z-index: 1;}#sk-container-id-1 div.sk-parallel {display: flex;align-items: stretch;justify-content: center;background-color: white;position: relative;}#sk-container-id-1 div.sk-item::before, #sk-container-id-1 div.sk-parallel-item::before {content: \"\";position: absolute;border-left: 1px solid gray;box-sizing: border-box;top: 0;bottom: 0;left: 50%;z-index: -1;}#sk-container-id-1 div.sk-parallel-item {display: flex;flex-direction: column;z-index: 1;position: relative;background-color: white;}#sk-container-id-1 div.sk-parallel-item:first-child::after {align-self: flex-end;width: 50%;}#sk-container-id-1 div.sk-parallel-item:last-child::after {align-self: flex-start;width: 50%;}#sk-container-id-1 div.sk-parallel-item:only-child::after {width: 0;}#sk-container-id-1 div.sk-dashed-wrapped {border: 1px dashed gray;margin: 0 0.4em 0.5em 0.4em;box-sizing: border-box;padding-bottom: 0.4em;background-color: white;}#sk-container-id-1 div.sk-label label {font-family: monospace;font-weight: bold;display: inline-block;line-height: 1.2em;}#sk-container-id-1 div.sk-label-container {text-align: center;}#sk-container-id-1 div.sk-container {/* jupyter's `normalize.less` sets `[hidden] { display: none; }` but bootstrap.min.css set `[hidden] { display: none !important; }` so we also need the `!important` here to be able to override the default hidden behavior on the sphinx rendered scikit-learn.org. See: https://github.com/scikit-learn/scikit-learn/issues/21755 */display: inline-block !important;position: relative;}#sk-container-id-1 div.sk-text-repr-fallback {display: none;}</style><div id=\"sk-container-id-1\" class=\"sk-top-container\"><div class=\"sk-text-repr-fallback\"><pre>LinearRegression()</pre><b>In a Jupyter environment, please rerun this cell to show the HTML representation or trust the notebook. <br />On GitHub, the HTML representation is unable to render, please try loading this page with nbviewer.org.</b></div><div class=\"sk-container\" hidden><div class=\"sk-item\"><div class=\"sk-estimator sk-toggleable\"><input class=\"sk-toggleable__control sk-hidden--visually\" id=\"sk-estimator-id-1\" type=\"checkbox\" checked><label for=\"sk-estimator-id-1\" class=\"sk-toggleable__label sk-toggleable__label-arrow\">LinearRegression</label><div class=\"sk-toggleable__content\"><pre>LinearRegression()</pre></div></div></div></div></div>"
      ],
      "text/plain": [
       "LinearRegression()"
      ]
     },
     "execution_count": 8,
     "metadata": {},
     "output_type": "execute_result"
    }
   ],
   "source": [
    "model = LinearRegression()\n",
    "# 55392为训练集的长度\n",
    "train_length = 55392\n",
    "prices = np.array(prices).reshape(-1, 1)\n",
    "X = prices[:train_length]\n",
    "y = electricity_price[\"clearing price (CNY/MWh)\"].iloc[:train_length].values.reshape(-1, 1)\n",
    "model.fit(X, y)"
   ]
  },
  {
   "cell_type": "markdown",
   "metadata": {},
   "source": [
    "可以看出我们的拟合方程式是：`P=11.26*N-2763.16`，其中N为耗煤量，P为机组报价"
   ]
  },
  {
   "cell_type": "code",
   "execution_count": 9,
   "metadata": {},
   "outputs": [
    {
     "data": {
      "text/plain": [
       "(array([[11.26542666]]), array([-2763.16464251]))"
      ]
     },
     "execution_count": 9,
     "metadata": {},
     "output_type": "execute_result"
    }
   ],
   "source": [
    "model.coef_, model.intercept_"
   ]
  },
  {
   "cell_type": "markdown",
   "metadata": {},
   "source": [
    "使用边际成本定价的机组报价为出清价格估计"
   ]
  },
  {
   "cell_type": "code",
   "execution_count": 10,
   "metadata": {},
   "outputs": [
    {
     "data": {
      "text/plain": [
       "array([407.60234502, 401.74432316, 401.74432316, 391.1548221 ,\n",
       "       401.74432316])"
      ]
     },
     "execution_count": 10,
     "metadata": {},
     "output_type": "execute_result"
    }
   ],
   "source": [
    "y_pred = model.predict(prices[train_length:])\n",
    "y_pred = y_pred.flatten()  # 2维矩阵转为1维\n",
    "y_pred[:5]"
   ]
  },
  {
   "cell_type": "markdown",
   "metadata": {},
   "source": [
    "## 保存结果为submit.csv\n",
    "成功后就可以提交到官网啦：http://competition.sais.com.cn/competitionDetail/532232/mySubmissions"
   ]
  },
  {
   "cell_type": "code",
   "execution_count": 11,
   "metadata": {},
   "outputs": [
    {
     "data": {
      "text/html": [
       "<div>\n",
       "<style scoped>\n",
       "    .dataframe tbody tr th:only-of-type {\n",
       "        vertical-align: middle;\n",
       "    }\n",
       "\n",
       "    .dataframe tbody tr th {\n",
       "        vertical-align: top;\n",
       "    }\n",
       "\n",
       "    .dataframe thead th {\n",
       "        text-align: right;\n",
       "    }\n",
       "</style>\n",
       "<table border=\"1\" class=\"dataframe\">\n",
       "  <thead>\n",
       "    <tr style=\"text-align: right;\">\n",
       "      <th></th>\n",
       "      <th>day</th>\n",
       "      <th>time</th>\n",
       "      <th>clearing price (CNY/MWh)</th>\n",
       "    </tr>\n",
       "  </thead>\n",
       "  <tbody>\n",
       "    <tr>\n",
       "      <th>55392</th>\n",
       "      <td>2023/7/1</td>\n",
       "      <td>0:15</td>\n",
       "      <td>407.602345</td>\n",
       "    </tr>\n",
       "    <tr>\n",
       "      <th>55393</th>\n",
       "      <td>2023/7/1</td>\n",
       "      <td>0:30</td>\n",
       "      <td>401.744323</td>\n",
       "    </tr>\n",
       "    <tr>\n",
       "      <th>55394</th>\n",
       "      <td>2023/7/1</td>\n",
       "      <td>0:45</td>\n",
       "      <td>401.744323</td>\n",
       "    </tr>\n",
       "    <tr>\n",
       "      <th>55395</th>\n",
       "      <td>2023/7/1</td>\n",
       "      <td>1:00</td>\n",
       "      <td>391.154822</td>\n",
       "    </tr>\n",
       "    <tr>\n",
       "      <th>55396</th>\n",
       "      <td>2023/7/1</td>\n",
       "      <td>1:15</td>\n",
       "      <td>401.744323</td>\n",
       "    </tr>\n",
       "  </tbody>\n",
       "</table>\n",
       "</div>"
      ],
      "text/plain": [
       "            day  time  clearing price (CNY/MWh)\n",
       "55392  2023/7/1  0:15                407.602345\n",
       "55393  2023/7/1  0:30                401.744323\n",
       "55394  2023/7/1  0:45                401.744323\n",
       "55395  2023/7/1  1:00                391.154822\n",
       "55396  2023/7/1  1:15                401.744323"
      ]
     },
     "execution_count": 11,
     "metadata": {},
     "output_type": "execute_result"
    }
   ],
   "source": [
    "sample_submit[\"clearing price (CNY/MWh)\"] = y_pred\n",
    "sample_submit.head()"
   ]
  },
  {
   "cell_type": "code",
   "execution_count": 12,
   "metadata": {},
   "outputs": [],
   "source": [
    "sample_submit.to_csv(\"submit.csv\", index=False)"
   ]
  }
 ],
 "metadata": {
  "kernelspec": {
   "display_name": "metagpt",
   "language": "python",
   "name": "python3"
  },
  "language_info": {
   "codemirror_mode": {
    "name": "ipython",
    "version": 3
   },
   "file_extension": ".py",
   "mimetype": "text/x-python",
   "name": "python",
   "nbconvert_exporter": "python",
   "pygments_lexer": "ipython3",
   "version": "3.9.19"
  }
 },
 "nbformat": 4,
 "nbformat_minor": 2
}
